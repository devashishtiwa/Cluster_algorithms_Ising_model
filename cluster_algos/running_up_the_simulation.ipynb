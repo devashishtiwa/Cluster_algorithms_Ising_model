{
 "cells": [
  {
   "cell_type": "code",
   "execution_count": 1,
   "metadata": {},
   "outputs": [],
   "source": [
    "import numpy as np\n",
    "import matplotlib.pyplot as plt\n",
    "import types\n",
    "from types import SimpleNamespace\n",
    "import time as tm\n",
    "import os"
   ]
  },
  {
   "cell_type": "code",
   "execution_count": 8,
   "metadata": {},
   "outputs": [],
   "source": [
    "#calling those functions that are defined in the other files\n",
    "\n",
    "#importing the module made by us, whhich is directly used to run up the simulation\n",
    "\n",
    "from necessary_func import *\n",
    "from metropolis_algorithm import *\n",
    "from bootstrapping_and_observables import *\n",
    "from  SW_algorithm import *\n",
    "from simulating_the_model import *\n",
    "from wolff_algorithm import *\n",
    "from importlib import reload\n",
    "import critical_slowing_down\n",
    "reload(critical_slowing_down)\n",
    "from critical_slowing_down import *"
   ]
  },
  {
   "cell_type": "code",
   "execution_count": 4,
   "metadata": {},
   "outputs": [],
   "source": [
    "parameter = SimpleNamespace(L = 10,                       # Lattice size, \n",
    "                            total_spins = 100,             # Total number of spins,\n",
    "                            J = 1,                        # Coupling constant,\n",
    "                            kb = 1,                        # Boltzmann constant\n",
    "                            T_len = 20,                   # Number of temperature points, \n",
    "                            dT = -0.1,                  # Temperature step,\n",
    "                            T = 3.5,                     # Initial temperature,\n",
    "                            mc_steps = 1000,                     #mc_steps\n",
    "                            eq_steps = 1000,                #equilibrium steps,\n",
    "                            initial_config = \"random\",       #initial configuration of the system\n",
    "                            bootstrap_trails = 1000\n",
    "                            )"
   ]
  },
  {
   "cell_type": "code",
   "execution_count": 6,
   "metadata": {},
   "outputs": [],
   "source": [
    "start_time = tm.time()\n",
    "results = sw_simulation(parameter)\n",
    "end_time = tm.time()\n",
    "total_time = end_time - start_time\n",
    "results.sim_time = total_time\n",
    "results.sim_time"
   ]
  },
  {
   "cell_type": "code",
   "execution_count": 9,
   "metadata": {},
   "outputs": [],
   "source": [
    "#saving all the data in a folder\n",
    "\n",
    "identifier = 'L10'\n",
    "data_dir = './all_data/'        # Directory where data should be stored \n",
    "fig_dir = './all_figs/'         # Directory where figures should be saved\n",
    "save_fig = True                      # Should figure be saved?\n",
    "\n",
    "save_data(sim, results, data_dir, identifier)\n",
    "plot_func(sim, results, fig_dir, identifier, save_fig)\n",
    "visualize_islands(sim, results, fig_dir, identifier, save_fig)\n",
    "grid_plot(sim, results, fig_dir, identifier, save_fig)"
   ]
  },
  {
   "cell_type": "code",
   "execution_count": null,
   "metadata": {},
   "outputs": [],
   "source": []
  }
 ],
 "metadata": {
  "kernelspec": {
   "display_name": "Python 3",
   "language": "python",
   "name": "python3"
  },
  "language_info": {
   "codemirror_mode": {
    "name": "ipython",
    "version": 3
   },
   "file_extension": ".py",
   "mimetype": "text/x-python",
   "name": "python",
   "nbconvert_exporter": "python",
   "pygments_lexer": "ipython3",
   "version": "3.12.1"
  }
 },
 "nbformat": 4,
 "nbformat_minor": 2
}
